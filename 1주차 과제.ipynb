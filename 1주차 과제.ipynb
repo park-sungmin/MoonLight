{
  "nbformat": 4,
  "nbformat_minor": 0,
  "metadata": {
    "colab": {
      "name": "Untitled0.ipynb",
      "provenance": [],
      "authorship_tag": "ABX9TyPh+4A+O0mcsXEpoRKW9Q9m",
      "include_colab_link": true
    },
    "kernelspec": {
      "name": "python3",
      "display_name": "Python 3"
    }
  },
  "cells": [
    {
      "cell_type": "markdown",
      "metadata": {
        "id": "view-in-github",
        "colab_type": "text"
      },
      "source": [
        "<a href=\"https://colab.research.google.com/github/park-sungmin/MoonLight/blob/master/1%EC%A3%BC%EC%B0%A8%20%EA%B3%BC%EC%A0%9C.ipynb\" target=\"_parent\"><img src=\"https://colab.research.google.com/assets/colab-badge.svg\" alt=\"Open In Colab\"/></a>"
      ]
    },
    {
      "cell_type": "code",
      "metadata": {
        "id": "a7zjxIgPNBwE",
        "colab_type": "code",
        "colab": {}
      },
      "source": [
        ""
      ],
      "execution_count": 0,
      "outputs": []
    },
    {
      "cell_type": "markdown",
      "metadata": {
        "id": "kWfsJK1Rbf7R",
        "colab_type": "text"
      },
      "source": [
        "# 인공지능 제품과 서비스 적용 제품 사례 \n",
        "\n",
        "  1. 언어 분야\n",
        "\n",
        "    * 동물(쥐) 언어 분석 AI\n",
        "       [동아 사이언스] (http://dongascience.donga.com/news.php?idx=26140)\n",
        "\n",
        "    * 자동 통,번역 기술\n",
        "       [삼성디스플레이 뉴스룸] (http://news.samsungdisplay.com/14544)   \n",
        "\n",
        "\n",
        "  2. 음성 분야\n",
        "       \n",
        "    * AI스피커 음성 비서\n",
        "       [YTN NEWS] (https://www.youtube.com/watch?v=rhTBvgPg4f0)\n",
        "\n",
        "    * 마크 주커버그, 영화 아이언맨의 AI 비서 '자비스' 개발\n",
        "       [IT.CHOSUN]\n",
        "       (http://it.chosun.com/site/data/html_dir/2016/12/21/2016122185004.html)\n",
        "\n",
        "\n",
        "  3. 이미지 \n",
        "\n",
        "    * AI의 창작(문예, 미술, 음악 등) 활동\n",
        "       [네이버 포스트]\n",
        "       (https://post.naver.com/viewer/postView.nhn?volumeNo=27350917&memberNo=16226184)\n",
        "\n",
        "    * 얼굴 인식 및 분석 서비스\n",
        "       [ai.see] (https://cometrue.ai/index.php/service-aisee/)\n",
        "\n",
        "\n",
        "  4. 자율주행 \n",
        "\n",
        "    * 자율주행 자동차 기술\n",
        "       [hellot.산업경제]\n",
        "       (http://www.hellot.net/new_hellot/magazine/magazine_read.html?code=202&sub=001&idx=31532)\n",
        "\n",
        "    * 포드, 폭스바겐 자율주행기술 투자 '아르고AI'\n",
        "       [전기신문]\n",
        "       (http://www.electimes.com/article.asp?aid=1592211311200208094)\n"
      ]
    }
  ]
}